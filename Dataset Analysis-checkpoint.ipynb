{
 "cells": [
  {
   "cell_type": "code",
   "execution_count": 1,
   "id": "3bd9a7e3",
   "metadata": {},
   "outputs": [],
   "source": [
    "#importing libraries\n",
    "import pandas as pd\n",
    "import numpy as np\n",
    "import matplotlib.pyplot as plt\n",
    "import seaborn as sns\n",
    "from sklearn.linear_model import LogisticRegression\n",
    "from sklearn.metrics import accuracy_score\n",
    "from sklearn.model_selection import train_test_split\n",
    "from sklearn.impute import SimpleImputer\n",
    "from sklearn.preprocessing import StandardScaler, OrdinalEncoder\n",
    "from sklearn.utils import resample\n",
    "from sklearn.model_selection import train_test_split\n",
    "from sklearn.compose import ColumnTransformer\n",
    "from sklearn.preprocessing import OrdinalEncoder\n",
    "from sklearn.ensemble import RandomForestClassifier\n",
    "from sklearn.metrics import accuracy_score\n",
    "from sklearn.metrics import precision_score, recall_score, f1_score\n",
    "import joblib\n",
    "import gradio as gr\n",
    "from tensorflow.keras.models import load_model\n"
   ]
  },
  {
   "cell_type": "code",
   "execution_count": 2,
   "id": "9e193e94",
   "metadata": {},
   "outputs": [],
   "source": [
    "#loading dataset\n",
    "gender = pd.read_csv('gender_classification_v7.csv')"
   ]
  },
  {
   "cell_type": "markdown",
   "id": "fa2c35fa",
   "metadata": {},
   "source": [
    "### Business Question "
   ]
  },
  {
   "cell_type": "markdown",
   "id": "ecee0bed",
   "metadata": {},
   "source": [
    "1. What is the distribution of gender in the dataset?\n",
    "2. What is the average forehead width and height for each gender?\n",
    "3. Are there any correlations between physical characteristics (forehead, nose, lips) and gender?\n"
   ]
  },
  {
   "cell_type": "markdown",
   "id": "776d811b",
   "metadata": {},
   "source": [
    "### Performing EDA"
   ]
  },
  {
   "cell_type": "code",
   "execution_count": 3,
   "id": "7c334f2c",
   "metadata": {},
   "outputs": [
    {
     "data": {
      "text/html": [
       "<div>\n",
       "<style scoped>\n",
       "    .dataframe tbody tr th:only-of-type {\n",
       "        vertical-align: middle;\n",
       "    }\n",
       "\n",
       "    .dataframe tbody tr th {\n",
       "        vertical-align: top;\n",
       "    }\n",
       "\n",
       "    .dataframe thead th {\n",
       "        text-align: right;\n",
       "    }\n",
       "</style>\n",
       "<table border=\"1\" class=\"dataframe\">\n",
       "  <thead>\n",
       "    <tr style=\"text-align: right;\">\n",
       "      <th></th>\n",
       "      <th>long_hair</th>\n",
       "      <th>forehead_width_cm</th>\n",
       "      <th>forehead_height_cm</th>\n",
       "      <th>nose_wide</th>\n",
       "      <th>nose_long</th>\n",
       "      <th>lips_thin</th>\n",
       "      <th>distance_nose_to_lip_long</th>\n",
       "      <th>gender</th>\n",
       "    </tr>\n",
       "  </thead>\n",
       "  <tbody>\n",
       "    <tr>\n",
       "      <th>0</th>\n",
       "      <td>1</td>\n",
       "      <td>11.8</td>\n",
       "      <td>6.1</td>\n",
       "      <td>1</td>\n",
       "      <td>0</td>\n",
       "      <td>1</td>\n",
       "      <td>1</td>\n",
       "      <td>Male</td>\n",
       "    </tr>\n",
       "    <tr>\n",
       "      <th>1</th>\n",
       "      <td>0</td>\n",
       "      <td>14.0</td>\n",
       "      <td>5.4</td>\n",
       "      <td>0</td>\n",
       "      <td>0</td>\n",
       "      <td>1</td>\n",
       "      <td>0</td>\n",
       "      <td>Female</td>\n",
       "    </tr>\n",
       "    <tr>\n",
       "      <th>2</th>\n",
       "      <td>0</td>\n",
       "      <td>11.8</td>\n",
       "      <td>6.3</td>\n",
       "      <td>1</td>\n",
       "      <td>1</td>\n",
       "      <td>1</td>\n",
       "      <td>1</td>\n",
       "      <td>Male</td>\n",
       "    </tr>\n",
       "    <tr>\n",
       "      <th>3</th>\n",
       "      <td>0</td>\n",
       "      <td>14.4</td>\n",
       "      <td>6.1</td>\n",
       "      <td>0</td>\n",
       "      <td>1</td>\n",
       "      <td>1</td>\n",
       "      <td>1</td>\n",
       "      <td>Male</td>\n",
       "    </tr>\n",
       "    <tr>\n",
       "      <th>4</th>\n",
       "      <td>1</td>\n",
       "      <td>13.5</td>\n",
       "      <td>5.9</td>\n",
       "      <td>0</td>\n",
       "      <td>0</td>\n",
       "      <td>0</td>\n",
       "      <td>0</td>\n",
       "      <td>Female</td>\n",
       "    </tr>\n",
       "    <tr>\n",
       "      <th>5</th>\n",
       "      <td>1</td>\n",
       "      <td>13.0</td>\n",
       "      <td>6.8</td>\n",
       "      <td>1</td>\n",
       "      <td>1</td>\n",
       "      <td>1</td>\n",
       "      <td>1</td>\n",
       "      <td>Male</td>\n",
       "    </tr>\n",
       "    <tr>\n",
       "      <th>6</th>\n",
       "      <td>1</td>\n",
       "      <td>15.3</td>\n",
       "      <td>6.2</td>\n",
       "      <td>1</td>\n",
       "      <td>1</td>\n",
       "      <td>1</td>\n",
       "      <td>0</td>\n",
       "      <td>Male</td>\n",
       "    </tr>\n",
       "    <tr>\n",
       "      <th>7</th>\n",
       "      <td>0</td>\n",
       "      <td>13.0</td>\n",
       "      <td>5.2</td>\n",
       "      <td>0</td>\n",
       "      <td>0</td>\n",
       "      <td>0</td>\n",
       "      <td>0</td>\n",
       "      <td>Female</td>\n",
       "    </tr>\n",
       "    <tr>\n",
       "      <th>8</th>\n",
       "      <td>1</td>\n",
       "      <td>11.9</td>\n",
       "      <td>5.4</td>\n",
       "      <td>1</td>\n",
       "      <td>0</td>\n",
       "      <td>1</td>\n",
       "      <td>1</td>\n",
       "      <td>Female</td>\n",
       "    </tr>\n",
       "    <tr>\n",
       "      <th>9</th>\n",
       "      <td>1</td>\n",
       "      <td>12.1</td>\n",
       "      <td>5.4</td>\n",
       "      <td>0</td>\n",
       "      <td>0</td>\n",
       "      <td>0</td>\n",
       "      <td>0</td>\n",
       "      <td>Female</td>\n",
       "    </tr>\n",
       "  </tbody>\n",
       "</table>\n",
       "</div>"
      ],
      "text/plain": [
       "   long_hair  forehead_width_cm  forehead_height_cm  nose_wide  nose_long   \n",
       "0          1               11.8                 6.1          1          0  \\\n",
       "1          0               14.0                 5.4          0          0   \n",
       "2          0               11.8                 6.3          1          1   \n",
       "3          0               14.4                 6.1          0          1   \n",
       "4          1               13.5                 5.9          0          0   \n",
       "5          1               13.0                 6.8          1          1   \n",
       "6          1               15.3                 6.2          1          1   \n",
       "7          0               13.0                 5.2          0          0   \n",
       "8          1               11.9                 5.4          1          0   \n",
       "9          1               12.1                 5.4          0          0   \n",
       "\n",
       "   lips_thin  distance_nose_to_lip_long  gender  \n",
       "0          1                          1    Male  \n",
       "1          1                          0  Female  \n",
       "2          1                          1    Male  \n",
       "3          1                          1    Male  \n",
       "4          0                          0  Female  \n",
       "5          1                          1    Male  \n",
       "6          1                          0    Male  \n",
       "7          0                          0  Female  \n",
       "8          1                          1  Female  \n",
       "9          0                          0  Female  "
      ]
     },
     "execution_count": 3,
     "metadata": {},
     "output_type": "execute_result"
    }
   ],
   "source": [
    "#Checking the head of the dataset\n",
    "gender.head(10)"
   ]
  },
  {
   "cell_type": "code",
   "execution_count": 4,
   "id": "d56c0922",
   "metadata": {},
   "outputs": [
    {
     "data": {
      "text/html": [
       "<div>\n",
       "<style scoped>\n",
       "    .dataframe tbody tr th:only-of-type {\n",
       "        vertical-align: middle;\n",
       "    }\n",
       "\n",
       "    .dataframe tbody tr th {\n",
       "        vertical-align: top;\n",
       "    }\n",
       "\n",
       "    .dataframe thead th {\n",
       "        text-align: right;\n",
       "    }\n",
       "</style>\n",
       "<table border=\"1\" class=\"dataframe\">\n",
       "  <thead>\n",
       "    <tr style=\"text-align: right;\">\n",
       "      <th></th>\n",
       "      <th>long_hair</th>\n",
       "      <th>forehead_width_cm</th>\n",
       "      <th>forehead_height_cm</th>\n",
       "      <th>nose_wide</th>\n",
       "      <th>nose_long</th>\n",
       "      <th>lips_thin</th>\n",
       "      <th>distance_nose_to_lip_long</th>\n",
       "      <th>gender</th>\n",
       "    </tr>\n",
       "  </thead>\n",
       "  <tbody>\n",
       "    <tr>\n",
       "      <th>4991</th>\n",
       "      <td>1</td>\n",
       "      <td>12.1</td>\n",
       "      <td>5.8</td>\n",
       "      <td>0</td>\n",
       "      <td>0</td>\n",
       "      <td>0</td>\n",
       "      <td>0</td>\n",
       "      <td>Female</td>\n",
       "    </tr>\n",
       "    <tr>\n",
       "      <th>4992</th>\n",
       "      <td>1</td>\n",
       "      <td>14.1</td>\n",
       "      <td>7.0</td>\n",
       "      <td>1</td>\n",
       "      <td>1</td>\n",
       "      <td>1</td>\n",
       "      <td>1</td>\n",
       "      <td>Male</td>\n",
       "    </tr>\n",
       "    <tr>\n",
       "      <th>4993</th>\n",
       "      <td>1</td>\n",
       "      <td>11.6</td>\n",
       "      <td>5.9</td>\n",
       "      <td>0</td>\n",
       "      <td>0</td>\n",
       "      <td>0</td>\n",
       "      <td>1</td>\n",
       "      <td>Female</td>\n",
       "    </tr>\n",
       "    <tr>\n",
       "      <th>4994</th>\n",
       "      <td>1</td>\n",
       "      <td>12.9</td>\n",
       "      <td>7.0</td>\n",
       "      <td>1</td>\n",
       "      <td>1</td>\n",
       "      <td>1</td>\n",
       "      <td>1</td>\n",
       "      <td>Male</td>\n",
       "    </tr>\n",
       "    <tr>\n",
       "      <th>4995</th>\n",
       "      <td>1</td>\n",
       "      <td>12.3</td>\n",
       "      <td>6.9</td>\n",
       "      <td>0</td>\n",
       "      <td>1</td>\n",
       "      <td>1</td>\n",
       "      <td>1</td>\n",
       "      <td>Male</td>\n",
       "    </tr>\n",
       "    <tr>\n",
       "      <th>4996</th>\n",
       "      <td>1</td>\n",
       "      <td>13.6</td>\n",
       "      <td>5.1</td>\n",
       "      <td>0</td>\n",
       "      <td>0</td>\n",
       "      <td>0</td>\n",
       "      <td>0</td>\n",
       "      <td>Female</td>\n",
       "    </tr>\n",
       "    <tr>\n",
       "      <th>4997</th>\n",
       "      <td>1</td>\n",
       "      <td>11.9</td>\n",
       "      <td>5.4</td>\n",
       "      <td>0</td>\n",
       "      <td>0</td>\n",
       "      <td>0</td>\n",
       "      <td>0</td>\n",
       "      <td>Female</td>\n",
       "    </tr>\n",
       "    <tr>\n",
       "      <th>4998</th>\n",
       "      <td>1</td>\n",
       "      <td>12.9</td>\n",
       "      <td>5.7</td>\n",
       "      <td>0</td>\n",
       "      <td>0</td>\n",
       "      <td>0</td>\n",
       "      <td>0</td>\n",
       "      <td>Female</td>\n",
       "    </tr>\n",
       "    <tr>\n",
       "      <th>4999</th>\n",
       "      <td>1</td>\n",
       "      <td>13.2</td>\n",
       "      <td>6.2</td>\n",
       "      <td>0</td>\n",
       "      <td>0</td>\n",
       "      <td>0</td>\n",
       "      <td>0</td>\n",
       "      <td>Female</td>\n",
       "    </tr>\n",
       "    <tr>\n",
       "      <th>5000</th>\n",
       "      <td>1</td>\n",
       "      <td>15.4</td>\n",
       "      <td>5.4</td>\n",
       "      <td>1</td>\n",
       "      <td>1</td>\n",
       "      <td>1</td>\n",
       "      <td>1</td>\n",
       "      <td>Male</td>\n",
       "    </tr>\n",
       "  </tbody>\n",
       "</table>\n",
       "</div>"
      ],
      "text/plain": [
       "      long_hair  forehead_width_cm  forehead_height_cm  nose_wide  nose_long   \n",
       "4991          1               12.1                 5.8          0          0  \\\n",
       "4992          1               14.1                 7.0          1          1   \n",
       "4993          1               11.6                 5.9          0          0   \n",
       "4994          1               12.9                 7.0          1          1   \n",
       "4995          1               12.3                 6.9          0          1   \n",
       "4996          1               13.6                 5.1          0          0   \n",
       "4997          1               11.9                 5.4          0          0   \n",
       "4998          1               12.9                 5.7          0          0   \n",
       "4999          1               13.2                 6.2          0          0   \n",
       "5000          1               15.4                 5.4          1          1   \n",
       "\n",
       "      lips_thin  distance_nose_to_lip_long  gender  \n",
       "4991          0                          0  Female  \n",
       "4992          1                          1    Male  \n",
       "4993          0                          1  Female  \n",
       "4994          1                          1    Male  \n",
       "4995          1                          1    Male  \n",
       "4996          0                          0  Female  \n",
       "4997          0                          0  Female  \n",
       "4998          0                          0  Female  \n",
       "4999          0                          0  Female  \n",
       "5000          1                          1    Male  "
      ]
     },
     "execution_count": 4,
     "metadata": {},
     "output_type": "execute_result"
    }
   ],
   "source": [
    "#checking the tail of the dataset \n",
    "gender.tail(10)"
   ]
  },
  {
   "cell_type": "code",
   "execution_count": 5,
   "id": "ebdc511d",
   "metadata": {},
   "outputs": [
    {
     "data": {
      "text/plain": [
       "(5001, 8)"
      ]
     },
     "execution_count": 5,
     "metadata": {},
     "output_type": "execute_result"
    }
   ],
   "source": [
    "#checking the shape of the dataset\n",
    "gender.shape"
   ]
  },
  {
   "cell_type": "code",
   "execution_count": 6,
   "id": "65328595",
   "metadata": {},
   "outputs": [
    {
     "name": "stdout",
     "output_type": "stream",
     "text": [
      "<class 'pandas.core.frame.DataFrame'>\n",
      "RangeIndex: 5001 entries, 0 to 5000\n",
      "Data columns (total 8 columns):\n",
      " #   Column                     Non-Null Count  Dtype  \n",
      "---  ------                     --------------  -----  \n",
      " 0   long_hair                  5001 non-null   int64  \n",
      " 1   forehead_width_cm          5001 non-null   float64\n",
      " 2   forehead_height_cm         5001 non-null   float64\n",
      " 3   nose_wide                  5001 non-null   int64  \n",
      " 4   nose_long                  5001 non-null   int64  \n",
      " 5   lips_thin                  5001 non-null   int64  \n",
      " 6   distance_nose_to_lip_long  5001 non-null   int64  \n",
      " 7   gender                     5001 non-null   object \n",
      "dtypes: float64(2), int64(5), object(1)\n",
      "memory usage: 312.7+ KB\n"
     ]
    }
   ],
   "source": [
    "#checking the information of the dataset \n",
    "gender.info()"
   ]
  },
  {
   "cell_type": "code",
   "execution_count": 7,
   "id": "d29dda95",
   "metadata": {},
   "outputs": [
    {
     "data": {
      "text/plain": [
       "1768"
      ]
     },
     "execution_count": 7,
     "metadata": {},
     "output_type": "execute_result"
    }
   ],
   "source": [
    "#checking for duplicate data but has to be ignored because we dealing with just two unique values\n",
    "gender.duplicated().sum()"
   ]
  },
  {
   "cell_type": "code",
   "execution_count": 8,
   "id": "c56f086c",
   "metadata": {},
   "outputs": [
    {
     "data": {
      "text/html": [
       "<div>\n",
       "<style scoped>\n",
       "    .dataframe tbody tr th:only-of-type {\n",
       "        vertical-align: middle;\n",
       "    }\n",
       "\n",
       "    .dataframe tbody tr th {\n",
       "        vertical-align: top;\n",
       "    }\n",
       "\n",
       "    .dataframe thead th {\n",
       "        text-align: right;\n",
       "    }\n",
       "</style>\n",
       "<table border=\"1\" class=\"dataframe\">\n",
       "  <thead>\n",
       "    <tr style=\"text-align: right;\">\n",
       "      <th></th>\n",
       "      <th>count</th>\n",
       "      <th>unique</th>\n",
       "      <th>top</th>\n",
       "      <th>freq</th>\n",
       "      <th>mean</th>\n",
       "      <th>std</th>\n",
       "      <th>min</th>\n",
       "      <th>25%</th>\n",
       "      <th>50%</th>\n",
       "      <th>75%</th>\n",
       "      <th>max</th>\n",
       "    </tr>\n",
       "  </thead>\n",
       "  <tbody>\n",
       "    <tr>\n",
       "      <th>long_hair</th>\n",
       "      <td>5001.0</td>\n",
       "      <td>NaN</td>\n",
       "      <td>NaN</td>\n",
       "      <td>NaN</td>\n",
       "      <td>0.869626</td>\n",
       "      <td>0.336748</td>\n",
       "      <td>0.0</td>\n",
       "      <td>1.0</td>\n",
       "      <td>1.0</td>\n",
       "      <td>1.0</td>\n",
       "      <td>1.0</td>\n",
       "    </tr>\n",
       "    <tr>\n",
       "      <th>forehead_width_cm</th>\n",
       "      <td>5001.0</td>\n",
       "      <td>NaN</td>\n",
       "      <td>NaN</td>\n",
       "      <td>NaN</td>\n",
       "      <td>13.181484</td>\n",
       "      <td>1.107128</td>\n",
       "      <td>11.4</td>\n",
       "      <td>12.2</td>\n",
       "      <td>13.1</td>\n",
       "      <td>14.0</td>\n",
       "      <td>15.5</td>\n",
       "    </tr>\n",
       "    <tr>\n",
       "      <th>forehead_height_cm</th>\n",
       "      <td>5001.0</td>\n",
       "      <td>NaN</td>\n",
       "      <td>NaN</td>\n",
       "      <td>NaN</td>\n",
       "      <td>5.946311</td>\n",
       "      <td>0.541268</td>\n",
       "      <td>5.1</td>\n",
       "      <td>5.5</td>\n",
       "      <td>5.9</td>\n",
       "      <td>6.4</td>\n",
       "      <td>7.1</td>\n",
       "    </tr>\n",
       "    <tr>\n",
       "      <th>nose_wide</th>\n",
       "      <td>5001.0</td>\n",
       "      <td>NaN</td>\n",
       "      <td>NaN</td>\n",
       "      <td>NaN</td>\n",
       "      <td>0.493901</td>\n",
       "      <td>0.500013</td>\n",
       "      <td>0.0</td>\n",
       "      <td>0.0</td>\n",
       "      <td>0.0</td>\n",
       "      <td>1.0</td>\n",
       "      <td>1.0</td>\n",
       "    </tr>\n",
       "    <tr>\n",
       "      <th>nose_long</th>\n",
       "      <td>5001.0</td>\n",
       "      <td>NaN</td>\n",
       "      <td>NaN</td>\n",
       "      <td>NaN</td>\n",
       "      <td>0.507898</td>\n",
       "      <td>0.499988</td>\n",
       "      <td>0.0</td>\n",
       "      <td>0.0</td>\n",
       "      <td>1.0</td>\n",
       "      <td>1.0</td>\n",
       "      <td>1.0</td>\n",
       "    </tr>\n",
       "    <tr>\n",
       "      <th>lips_thin</th>\n",
       "      <td>5001.0</td>\n",
       "      <td>NaN</td>\n",
       "      <td>NaN</td>\n",
       "      <td>NaN</td>\n",
       "      <td>0.493101</td>\n",
       "      <td>0.500002</td>\n",
       "      <td>0.0</td>\n",
       "      <td>0.0</td>\n",
       "      <td>0.0</td>\n",
       "      <td>1.0</td>\n",
       "      <td>1.0</td>\n",
       "    </tr>\n",
       "    <tr>\n",
       "      <th>distance_nose_to_lip_long</th>\n",
       "      <td>5001.0</td>\n",
       "      <td>NaN</td>\n",
       "      <td>NaN</td>\n",
       "      <td>NaN</td>\n",
       "      <td>0.4989</td>\n",
       "      <td>0.500049</td>\n",
       "      <td>0.0</td>\n",
       "      <td>0.0</td>\n",
       "      <td>0.0</td>\n",
       "      <td>1.0</td>\n",
       "      <td>1.0</td>\n",
       "    </tr>\n",
       "    <tr>\n",
       "      <th>gender</th>\n",
       "      <td>5001</td>\n",
       "      <td>2</td>\n",
       "      <td>Female</td>\n",
       "      <td>2501</td>\n",
       "      <td>NaN</td>\n",
       "      <td>NaN</td>\n",
       "      <td>NaN</td>\n",
       "      <td>NaN</td>\n",
       "      <td>NaN</td>\n",
       "      <td>NaN</td>\n",
       "      <td>NaN</td>\n",
       "    </tr>\n",
       "  </tbody>\n",
       "</table>\n",
       "</div>"
      ],
      "text/plain": [
       "                            count unique     top  freq       mean       std   \n",
       "long_hair                  5001.0    NaN     NaN   NaN   0.869626  0.336748  \\\n",
       "forehead_width_cm          5001.0    NaN     NaN   NaN  13.181484  1.107128   \n",
       "forehead_height_cm         5001.0    NaN     NaN   NaN   5.946311  0.541268   \n",
       "nose_wide                  5001.0    NaN     NaN   NaN   0.493901  0.500013   \n",
       "nose_long                  5001.0    NaN     NaN   NaN   0.507898  0.499988   \n",
       "lips_thin                  5001.0    NaN     NaN   NaN   0.493101  0.500002   \n",
       "distance_nose_to_lip_long  5001.0    NaN     NaN   NaN     0.4989  0.500049   \n",
       "gender                       5001      2  Female  2501        NaN       NaN   \n",
       "\n",
       "                            min   25%   50%   75%   max  \n",
       "long_hair                   0.0   1.0   1.0   1.0   1.0  \n",
       "forehead_width_cm          11.4  12.2  13.1  14.0  15.5  \n",
       "forehead_height_cm          5.1   5.5   5.9   6.4   7.1  \n",
       "nose_wide                   0.0   0.0   0.0   1.0   1.0  \n",
       "nose_long                   0.0   0.0   1.0   1.0   1.0  \n",
       "lips_thin                   0.0   0.0   0.0   1.0   1.0  \n",
       "distance_nose_to_lip_long   0.0   0.0   0.0   1.0   1.0  \n",
       "gender                      NaN   NaN   NaN   NaN   NaN  "
      ]
     },
     "execution_count": 8,
     "metadata": {},
     "output_type": "execute_result"
    }
   ],
   "source": [
    "#checking for the dataset info mean etc\n",
    "gender.describe(include=\"all\").transpose()"
   ]
  },
  {
   "cell_type": "code",
   "execution_count": 9,
   "id": "66e4ab20",
   "metadata": {},
   "outputs": [
    {
     "data": {
      "text/plain": [
       "long_hair                    False\n",
       "forehead_width_cm            False\n",
       "forehead_height_cm           False\n",
       "nose_wide                    False\n",
       "nose_long                    False\n",
       "lips_thin                    False\n",
       "distance_nose_to_lip_long    False\n",
       "gender                       False\n",
       "dtype: bool"
      ]
     },
     "execution_count": 9,
     "metadata": {},
     "output_type": "execute_result"
    }
   ],
   "source": [
    "#checking for null values\n",
    "gender.isnull().any()"
   ]
  },
  {
   "cell_type": "code",
   "execution_count": 10,
   "id": "e869ee9b",
   "metadata": {},
   "outputs": [
    {
     "data": {
      "text/plain": [
       "long_hair                     2\n",
       "forehead_width_cm            42\n",
       "forehead_height_cm           21\n",
       "nose_wide                     2\n",
       "nose_long                     2\n",
       "lips_thin                     2\n",
       "distance_nose_to_lip_long     2\n",
       "gender                        2\n",
       "dtype: int64"
      ]
     },
     "execution_count": 10,
     "metadata": {},
     "output_type": "execute_result"
    }
   ],
   "source": [
    "#checking for the unique valuses\n",
    "gender.nunique()"
   ]
  },
  {
   "cell_type": "code",
   "execution_count": 11,
   "id": "d62413d8",
   "metadata": {},
   "outputs": [
    {
     "data": {
      "text/plain": [
       "long_hair                      int64\n",
       "forehead_width_cm            float64\n",
       "forehead_height_cm           float64\n",
       "nose_wide                      int64\n",
       "nose_long                      int64\n",
       "lips_thin                      int64\n",
       "distance_nose_to_lip_long      int64\n",
       "gender                        object\n",
       "dtype: object"
      ]
     },
     "execution_count": 11,
     "metadata": {},
     "output_type": "execute_result"
    }
   ],
   "source": [
    "#checking for the data types for each column\n",
    "gender.dtypes"
   ]
  },
  {
   "cell_type": "markdown",
   "id": "f7401455",
   "metadata": {},
   "source": [
    "### Visualization "
   ]
  },
  {
   "cell_type": "code",
   "execution_count": 12,
   "id": "04d97c28",
   "metadata": {},
   "outputs": [
    {
     "data": {
      "image/png": "[encoded data removed]",
      "text/plain": [
       "<Figure size 640x480 with 1 Axes>"
      ]
     },
     "metadata": {},
     "output_type": "display_data"
    },
    {
     "data": {
      "image/png": "[encoded data removed]",
      "text/plain": [
       "<Figure size 640x480 with 1 Axes>"
      ]
     },
     "metadata": {},
     "output_type": "display_data"
    }
   ],
   "source": [
    "#taking a look at the long hair versus gender \n",
    "male_data = gender[gender['gender'] == 'Male']\n",
    "female_data = gender[gender['gender'] == 'Female']\n",
    "# Plot the distribution of long hair for males\n",
    "plt.hist(male_data['long_hair'], bins=10, color='blue', alpha=0.5, label='Male')\n",
    "plt.xlabel('Long Hair')\n",
    "plt.ylabel('Count')\n",
    "plt.title('Distribution of Long Hair for Males')\n",
    "plt.legend()\n",
    "plt.show()\n",
    "\n",
    "# Plot the distribution of long hair for females\n",
    "plt.hist(female_data['long_hair'], bins=10, color='red', alpha=0.5, label='Female')\n",
    "plt.xlabel('Long Hair')\n",
    "plt.ylabel('Count')\n",
    "plt.title('Distribution of Long Hair for Females')\n",
    "plt.legend()\n",
    "plt.show()"
   ]
  },
  {
   "cell_type": "markdown",
   "id": "e71f6496",
   "metadata": {},
   "source": [
    "there is really no differentiation using hair length between the mail and the female gender looking at the graph"
   ]
  },
  {
   "cell_type": "code",
   "execution_count": 13,
   "id": "f6dc820a",
   "metadata": {},
   "outputs": [
    {
     "data": {
      "image/png": "[encoded data removed]",
      "text/plain": [
       "<Figure size 640x480 with 1 Axes>"
      ]
     },
     "metadata": {},
     "output_type": "display_data"
    }
   ],
   "source": [
    "#forehead width versus gender \n",
    "sns.boxplot(x='gender', y='forehead_width_cm', data=gender)\n",
    "plt.xlabel('Gender')\n",
    "plt.ylabel('Forehead Width (cm)')\n",
    "plt.title('Forehead Width vs. Gender')\n",
    "plt.show()"
   ]
  },
  {
   "cell_type": "markdown",
   "id": "9d1a42f1",
   "metadata": {},
   "source": [
    "from the visual above we can infer that the mean for the male gender when it comes to the width of the forehead is higher than the females "
   ]
  },
  {
   "cell_type": "code",
   "execution_count": 14,
   "id": "b7f8738d",
   "metadata": {},
   "outputs": [
    {
     "data": {
      "image/png": "[encoded data removed]",
      "text/plain": [
       "<Figure size 640x480 with 1 Axes>"
      ]
     },
     "metadata": {},
     "output_type": "display_data"
    }
   ],
   "source": [
    "# Forehead Height vs. Gender\n",
    "sns.boxplot(x='gender', y='forehead_height_cm', data=gender)\n",
    "plt.xlabel('Gender')\n",
    "plt.ylabel('Forehead Height (cm)')\n",
    "plt.title('Forehead Height vs. Gender')\n",
    "plt.show()\n"
   ]
  },
  {
   "cell_type": "markdown",
   "id": "bf926c2a",
   "metadata": {},
   "source": [
    "from the visual above we can infer that the mean for the male gender when it comes to the height of the forehead is higher than the females "
   ]
  },
  {
   "cell_type": "code",
   "execution_count": 15,
   "id": "d9c71efc",
   "metadata": {},
   "outputs": [
    {
     "data": {
      "image/png": "[encoded data removed]",
      "text/plain": [
       "<Figure size 640x480 with 1 Axes>"
      ]
     },
     "metadata": {},
     "output_type": "display_data"
    }
   ],
   "source": [
    "# Calculate the proportion of wide nose for each gender\n",
    "gender_nose_wide = gender.groupby('gender')['nose_wide'].mean()\n",
    "\n",
    "# Plot the proportion of wide nose for each gender as a bar plot\n",
    "plt.bar(gender_nose_wide.index, gender_nose_wide)\n",
    "plt.xlabel('Gender')\n",
    "plt.ylabel('Proportion of Wide Nose')\n",
    "plt.title('Proportion of Wide Nose by Gender')\n",
    "plt.show()"
   ]
  },
  {
   "cell_type": "markdown",
   "id": "16dff48a",
   "metadata": {},
   "source": [
    "the graph above infer that the male proportion wiith a wider nose are higher than the female proportion  "
   ]
  },
  {
   "cell_type": "code",
   "execution_count": 16,
   "id": "f35af502",
   "metadata": {},
   "outputs": [
    {
     "data": {
      "image/png": "[encoded data removed]",
      "text/plain": [
       "<Figure size 640x480 with 1 Axes>"
      ]
     },
     "metadata": {},
     "output_type": "display_data"
    }
   ],
   "source": [
    "# Separate the dataset by gender\n",
    "male_data = gender[gender['gender'] == 'Male']\n",
    "female_data = gender[gender['gender'] == 'Female']\n",
    "\n",
    "# Count the occurrences of lip thickness for each gender\n",
    "male_lip_thickness = male_data['lips_thin'].value_counts()\n",
    "female_lip_thickness = female_data['lips_thin'].value_counts()\n",
    "\n",
    "# Create a bar plot to compare lip thickness by gender\n",
    "width = 0.35\n",
    "x = ['Thin Lips', 'Thick Lips']\n",
    "\n",
    "plt.bar(x, male_lip_thickness, width, label='Male')\n",
    "plt.bar(x, female_lip_thickness, width, bottom=male_lip_thickness, label='Female')\n",
    "\n",
    "plt.xlabel('Lip Thickness')\n",
    "plt.ylabel('Count')\n",
    "plt.title('Lip Thickness vs. Gender')\n",
    "plt.legend()\n",
    "plt.show()"
   ]
  },
  {
   "cell_type": "markdown",
   "id": "01049ca8",
   "metadata": {},
   "source": [
    "from the charts above we can infer that the proportion of male and female with thin or thick lips are almost the same no significant difference"
   ]
  },
  {
   "cell_type": "code",
   "execution_count": 17,
   "id": "38372edf",
   "metadata": {},
   "outputs": [
    {
     "data": {
      "image/png": "[encoded data removed]",
      "text/plain": [
       "<Figure size 640x480 with 1 Axes>"
      ]
     },
     "metadata": {},
     "output_type": "display_data"
    }
   ],
   "source": [
    "# Distance between Nose and Lip vs. Gender\n",
    "distance_gender = gender.groupby(['distance_nose_to_lip_long', 'gender']).size().unstack()\n",
    "distance_gender.plot(kind='bar', stacked=True)\n",
    "plt.xlabel('Distance between Nose and Lip')\n",
    "plt.ylabel('Count')\n",
    "plt.title('Distance between Nose and Lip vs. Gender')\n",
    "plt.show()"
   ]
  },
  {
   "cell_type": "markdown",
   "id": "5bb330bb",
   "metadata": {},
   "source": [
    "we can see any significant difference between noise distance for both genders"
   ]
  },
  {
   "cell_type": "markdown",
   "id": "cd3de564",
   "metadata": {},
   "source": [
    "### Answering Business Question"
   ]
  },
  {
   "cell_type": "code",
   "execution_count": 18,
   "id": "48bf8ff1",
   "metadata": {},
   "outputs": [
    {
     "name": "stdout",
     "output_type": "stream",
     "text": [
      "gender\n",
      "Female    2501\n",
      "Male      2500\n",
      "Name: count, dtype: int64\n"
     ]
    }
   ],
   "source": [
    "# Calculate gender distribution\n",
    "gender_distribution = gender['gender'].value_counts()\n",
    "\n",
    "print(gender_distribution)"
   ]
  },
  {
   "cell_type": "code",
   "execution_count": 19,
   "id": "8d237365",
   "metadata": {},
   "outputs": [
    {
     "name": "stdout",
     "output_type": "stream",
     "text": [
      "        forehead_width_cm  forehead_height_cm\n",
      "gender                                       \n",
      "Female          12.811675            5.796321\n",
      "Male            13.551440            6.096360\n"
     ]
    }
   ],
   "source": [
    "# Calculate average forehead width and height by gender\n",
    "average_forehead = gender.groupby('gender')[['forehead_width_cm', 'forehead_height_cm']].mean()\n",
    "\n",
    "print(average_forehead)"
   ]
  },
  {
   "cell_type": "code",
   "execution_count": 20,
   "id": "490a56e5",
   "metadata": {
    "scrolled": true
   },
   "outputs": [
    {
     "name": "stdout",
     "output_type": "stream",
     "text": [
      "                    forehead_width_cm  forehead_height_cm  nose_wide   \n",
      "forehead_width_cm            1.000000            0.088596   0.251648  \\\n",
      "forehead_height_cm           0.088596            1.000000   0.211655   \n",
      "nose_wide                    0.251648            0.211655   1.000000   \n",
      "nose_long                    0.257368            0.194120   0.565192   \n",
      "lips_thin                    0.258564            0.205441   0.557615   \n",
      "\n",
      "                    nose_long  lips_thin  \n",
      "forehead_width_cm    0.257368   0.258564  \n",
      "forehead_height_cm   0.194120   0.205441  \n",
      "nose_wide            0.565192   0.557615  \n",
      "nose_long            1.000000   0.561229  \n",
      "lips_thin            0.561229   1.000000  \n"
     ]
    }
   ],
   "source": [
    "# Calculate correlation matrix\n",
    "# Select the relevant columns for correlation calculation\n",
    "\n",
    "# Select the relevant columns for correlation calculation\n",
    "columns = ['forehead_width_cm', 'forehead_height_cm', 'nose_wide', 'nose_long', 'lips_thin']\n",
    "\n",
    "# Calculate correlation matrix\n",
    "correlation_matrix = gender[columns].corr()\n",
    "\n",
    "print(correlation_matrix)"
   ]
  },
  {
   "cell_type": "markdown",
   "id": "0845af89",
   "metadata": {},
   "source": [
    "### Feature Processing and Engineering"
   ]
  },
  {
   "cell_type": "code",
   "execution_count": 21,
   "id": "9cc3d40b",
   "metadata": {},
   "outputs": [],
   "source": [
    "# Calculate facial proportion features\n",
    "gender['forehead_height_ratio'] = gender['forehead_height_cm'] / gender['forehead_width_cm']\n",
    "\n",
    "# Calculate facial proportion features\n",
    "gender['forehead_height_ratio'] = gender['forehead_height_cm'] / gender['forehead_width_cm']\n",
    "gender['nose_width_ratio'] = gender['nose_wide'] / gender['forehead_width_cm']\n",
    "\n",
    "# Calculate facial index features\n",
    "gender['forehead_nose_index'] = gender['forehead_width_cm'] + gender['nose_wide']\n",
    "gender['forehead_height_nose_index'] = gender['forehead_height_cm'] + gender['nose_wide']\n"
   ]
  },
  {
   "cell_type": "code",
   "execution_count": 22,
   "id": "f0f9814a",
   "metadata": {},
   "outputs": [
    {
     "data": {
      "text/html": [
       "<div>\n",
       "<style scoped>\n",
       "    .dataframe tbody tr th:only-of-type {\n",
       "        vertical-align: middle;\n",
       "    }\n",
       "\n",
       "    .dataframe tbody tr th {\n",
       "        vertical-align: top;\n",
       "    }\n",
       "\n",
       "    .dataframe thead th {\n",
       "        text-align: right;\n",
       "    }\n",
       "</style>\n",
       "<table border=\"1\" class=\"dataframe\">\n",
       "  <thead>\n",
       "    <tr style=\"text-align: right;\">\n",
       "      <th></th>\n",
       "      <th>long_hair</th>\n",
       "      <th>forehead_width_cm</th>\n",
       "      <th>forehead_height_cm</th>\n",
       "      <th>nose_wide</th>\n",
       "      <th>nose_long</th>\n",
       "      <th>lips_thin</th>\n",
       "      <th>distance_nose_to_lip_long</th>\n",
       "      <th>gender</th>\n",
       "      <th>forehead_height_ratio</th>\n",
       "      <th>nose_width_ratio</th>\n",
       "      <th>forehead_nose_index</th>\n",
       "      <th>forehead_height_nose_index</th>\n",
       "    </tr>\n",
       "  </thead>\n",
       "  <tbody>\n",
       "    <tr>\n",
       "      <th>0</th>\n",
       "      <td>1</td>\n",
       "      <td>11.8</td>\n",
       "      <td>6.1</td>\n",
       "      <td>1</td>\n",
       "      <td>0</td>\n",
       "      <td>1</td>\n",
       "      <td>1</td>\n",
       "      <td>Male</td>\n",
       "      <td>0.516949</td>\n",
       "      <td>0.084746</td>\n",
       "      <td>12.8</td>\n",
       "      <td>7.1</td>\n",
       "    </tr>\n",
       "    <tr>\n",
       "      <th>1</th>\n",
       "      <td>0</td>\n",
       "      <td>14.0</td>\n",
       "      <td>5.4</td>\n",
       "      <td>0</td>\n",
       "      <td>0</td>\n",
       "      <td>1</td>\n",
       "      <td>0</td>\n",
       "      <td>Female</td>\n",
       "      <td>0.385714</td>\n",
       "      <td>0.000000</td>\n",
       "      <td>14.0</td>\n",
       "      <td>5.4</td>\n",
       "    </tr>\n",
       "    <tr>\n",
       "      <th>2</th>\n",
       "      <td>0</td>\n",
       "      <td>11.8</td>\n",
       "      <td>6.3</td>\n",
       "      <td>1</td>\n",
       "      <td>1</td>\n",
       "      <td>1</td>\n",
       "      <td>1</td>\n",
       "      <td>Male</td>\n",
       "      <td>0.533898</td>\n",
       "      <td>0.084746</td>\n",
       "      <td>12.8</td>\n",
       "      <td>7.3</td>\n",
       "    </tr>\n",
       "    <tr>\n",
       "      <th>3</th>\n",
       "      <td>0</td>\n",
       "      <td>14.4</td>\n",
       "      <td>6.1</td>\n",
       "      <td>0</td>\n",
       "      <td>1</td>\n",
       "      <td>1</td>\n",
       "      <td>1</td>\n",
       "      <td>Male</td>\n",
       "      <td>0.423611</td>\n",
       "      <td>0.000000</td>\n",
       "      <td>14.4</td>\n",
       "      <td>6.1</td>\n",
       "    </tr>\n",
       "    <tr>\n",
       "      <th>4</th>\n",
       "      <td>1</td>\n",
       "      <td>13.5</td>\n",
       "      <td>5.9</td>\n",
       "      <td>0</td>\n",
       "      <td>0</td>\n",
       "      <td>0</td>\n",
       "      <td>0</td>\n",
       "      <td>Female</td>\n",
       "      <td>0.437037</td>\n",
       "      <td>0.000000</td>\n",
       "      <td>13.5</td>\n",
       "      <td>5.9</td>\n",
       "    </tr>\n",
       "  </tbody>\n",
       "</table>\n",
       "</div>"
      ],
      "text/plain": [
       "   long_hair  forehead_width_cm  forehead_height_cm  nose_wide  nose_long   \n",
       "0          1               11.8                 6.1          1          0  \\\n",
       "1          0               14.0                 5.4          0          0   \n",
       "2          0               11.8                 6.3          1          1   \n",
       "3          0               14.4                 6.1          0          1   \n",
       "4          1               13.5                 5.9          0          0   \n",
       "\n",
       "   lips_thin  distance_nose_to_lip_long  gender  forehead_height_ratio   \n",
       "0          1                          1    Male               0.516949  \\\n",
       "1          1                          0  Female               0.385714   \n",
       "2          1                          1    Male               0.533898   \n",
       "3          1                          1    Male               0.423611   \n",
       "4          0                          0  Female               0.437037   \n",
       "\n",
       "   nose_width_ratio  forehead_nose_index  forehead_height_nose_index  \n",
       "0          0.084746                 12.8                         7.1  \n",
       "1          0.000000                 14.0                         5.4  \n",
       "2          0.084746                 12.8                         7.3  \n",
       "3          0.000000                 14.4                         6.1  \n",
       "4          0.000000                 13.5                         5.9  "
      ]
     },
     "execution_count": 22,
     "metadata": {},
     "output_type": "execute_result"
    }
   ],
   "source": [
    "gender.head()"
   ]
  },
  {
   "cell_type": "markdown",
   "id": "01d7e9bc",
   "metadata": {},
   "source": [
    "### Checking for categorical and numeric columns"
   ]
  },
  {
   "cell_type": "code",
   "execution_count": 23,
   "id": "a3f764cd",
   "metadata": {},
   "outputs": [
    {
     "name": "stdout",
     "output_type": "stream",
     "text": [
      "Categorical columns:\n",
      "['gender']\n",
      "Numeric columns:\n",
      "['long_hair', 'forehead_width_cm', 'forehead_height_cm', 'nose_wide', 'nose_long', 'lips_thin', 'distance_nose_to_lip_long', 'forehead_height_ratio', 'nose_width_ratio', 'forehead_nose_index', 'forehead_height_nose_index']\n"
     ]
    }
   ],
   "source": [
    "# Select categorical columns\n",
    "categorical_columns = gender.select_dtypes(include=['object', 'category']).columns.tolist()\n",
    "\n",
    "# Select numeric columns\n",
    "numeric_columns = gender.select_dtypes(include=['int', 'float']).columns.tolist()\n",
    "\n",
    "print(\"Categorical columns:\")\n",
    "print(categorical_columns)\n",
    "\n",
    "print(\"Numeric columns:\")\n",
    "print(numeric_columns)"
   ]
  },
  {
   "cell_type": "markdown",
   "id": "e1f0621a",
   "metadata": {},
   "source": [
    "### Splitting of dataset"
   ]
  },
  {
   "cell_type": "code",
   "execution_count": 24,
   "id": "198653a6",
   "metadata": {},
   "outputs": [],
   "source": [
    "# Split the data into features (X) and target variable (y)\n",
    "X = gender.drop('gender', axis=1)  \n",
    "y = gender['gender']  \n",
    "# Split the data into training and testing sets\n",
    "X_train, X_test, y_train, y_test = train_test_split(X, y, test_size=0.2, random_state=42)"
   ]
  },
  {
   "cell_type": "markdown",
   "id": "57bce60a",
   "metadata": {},
   "source": [
    "### Handling missing data"
   ]
  },
  {
   "cell_type": "code",
   "execution_count": 25,
   "id": "7d1d8cc4",
   "metadata": {},
   "outputs": [],
   "source": [
    "# Use simple Imputer to impute missing values\n",
    "imputer = SimpleImputer(strategy='most_frequent')\n",
    "\n",
    "# Fit imputer to X data\n",
    "X_train = imputer.fit_transform(X_train)\n",
    "X_test = imputer.transform(X_test)"
   ]
  },
  {
   "cell_type": "markdown",
   "id": "f1016a81",
   "metadata": {},
   "source": [
    "### Encoding the Target Variables columns "
   ]
  },
  {
   "cell_type": "code",
   "execution_count": 26,
   "id": "3ee8d014",
   "metadata": {},
   "outputs": [],
   "source": [
    "\n",
    "# Encode the target variable\n",
    "encoder = OrdinalEncoder()\n",
    "y_train_encoded = encoder.fit_transform(y_train.values.reshape(-1, 1)).flatten()\n",
    "y_test_encoded = encoder.transform(y_test.values.reshape(-1, 1)).flatten()"
   ]
  },
  {
   "cell_type": "markdown",
   "id": "8f657c70",
   "metadata": {},
   "source": [
    "### Scaling and Balancing"
   ]
  },
  {
   "cell_type": "code",
   "execution_count": 27,
   "id": "1dce85fd",
   "metadata": {},
   "outputs": [],
   "source": [
    "# Scale the training features\n",
    "scaler = StandardScaler()\n",
    "X_train_scaled = scaler.fit_transform(X_train)\n",
    "# Balance the training dataset\n",
    "# Separate majority and minority classes\n",
    "X_train_majority = X_train_scaled[y_train == 0]\n",
    "X_train_minority = X_train_scaled[y_train == 1]\n",
    "\n",
    "# Upsample the minority class\n",
    "X_train_minority_upsampled = resample(X_train_minority, replace=True, n_samples=X_train_majority.shape[0], random_state=42)\n",
    "\n",
    "# Combine the upsampled minority class with the majority class\n",
    "X_train_balanced = np.concatenate([X_train_majority, X_train_minority_upsampled])\n",
    "y_train_balanced = np.concatenate([np.zeros(X_train_majority.shape[0]), np.ones(X_train_minority_upsampled.shape[0])])\n",
    "\n",
    "# Scale the testing features using the same scaler\n",
    "X_test_scaled = scaler.transform(X_test)\n"
   ]
  },
  {
   "cell_type": "code",
   "execution_count": 28,
   "id": "f52974da",
   "metadata": {},
   "outputs": [],
   "source": [
    "#Passing them back into the Xtrain and Xtest variables \n",
    "X_train = X_train_scaled\n",
    "X_test = X_test_scaled"
   ]
  },
  {
   "cell_type": "markdown",
   "id": "148d45dd",
   "metadata": {},
   "source": [
    "### Training the model"
   ]
  },
  {
   "cell_type": "code",
   "execution_count": 29,
   "id": "26b0a9fe",
   "metadata": {},
   "outputs": [
    {
     "name": "stdout",
     "output_type": "stream",
     "text": [
      "long_hair: 0.01321924143059032\n",
      "forehead_width_cm: -0.10642001922676014\n",
      "forehead_height_cm: 0.14856974207081414\n",
      "nose_wide: 0.011935520519971675\n",
      "nose_long: -0.2565474384695109\n",
      "lips_thin: -0.2533585275284775\n",
      "distance_nose_to_lip_long: -0.2740752279498091\n",
      "forehead_height_ratio: -4.665210984570598\n",
      "nose_width_ratio: -4.7647197651593345\n",
      "forehead_nose_index: -0.09448449870673967\n",
      "forehead_height_nose_index: 0.16050526259080616\n",
      "Prediction: [['Male']]\n"
     ]
    }
   ],
   "source": [
    "from sklearn.preprocessing import OneHotEncoder\n",
    "from sklearn.linear_model import LinearRegression\n",
    "# Encode the target variable using one-hot encoding\n",
    "encoder = OneHotEncoder(sparse_output=False)\n",
    "y_encoded = encoder.fit_transform(y.values.reshape(-1, 1))\n",
    "\n",
    "# Create and fit the LinearRegression model\n",
    "model = LinearRegression()\n",
    "model.fit(X, y_encoded)\n",
    "\n",
    "# Get the coefficients and intercept\n",
    "coefficients = model.coef_\n",
    "intercept = model.intercept_\n",
    "\n",
    "# Print the coefficients with their corresponding feature names\n",
    "feature_names = X.columns\n",
    "for feature, coefficient in zip(feature_names, coefficients[0]):\n",
    "    print(f\"{feature}: {coefficient}\")\n",
    "\n",
    "# Make predictions on new data\n",
    "new_data = pd.DataFrame({\n",
    "    'long_hair': [0],\n",
    "    'forehead_width_cm': [3.2],\n",
    "    'forehead_height_cm': [4.9],\n",
    "    'nose_wide': [1],\n",
    "    'nose_long': [0],\n",
    "    'lips_thin': [1],\n",
    "    'distance_nose_to_lip_long': [1.9],\n",
    "    'forehead_height_ratio': [0.8],\n",
    "    'nose_width_ratio': [1.0],\n",
    "    'forehead_nose_index': [0.7],\n",
    "    'forehead_height_nose_index': [0.9],\n",
    "})\n",
    "\n",
    "prediction = model.predict(new_data)\n",
    "predicted_labels = encoder.inverse_transform(prediction)\n",
    "print(f\"Prediction: {predicted_labels}\")"
   ]
  },
  {
   "cell_type": "code",
   "execution_count": 30,
   "id": "4696093f",
   "metadata": {},
   "outputs": [
    {
     "data": {
      "text/plain": [
       "['D:\\\\Projects\\\\gradio app for gender classification\\\\linear_regression_model.joblib']"
      ]
     },
     "execution_count": 30,
     "metadata": {},
     "output_type": "execute_result"
    }
   ],
   "source": [
    "# Save the model to the specified path\n",
    "path = r\"D:\\Projects\\gradio app for gender classification\\linear_regression_model.joblib\"\n",
    "joblib.dump(model, path)"
   ]
  },
  {
   "cell_type": "code",
   "execution_count": null,
   "id": "2821a6ac",
   "metadata": {},
   "outputs": [],
   "source": []
  },
  {
   "cell_type": "code",
   "execution_count": null,
   "id": "666a400f",
   "metadata": {},
   "outputs": [],
   "source": []
  },
  {
   "cell_type": "code",
   "execution_count": null,
   "id": "b617412b",
   "metadata": {},
   "outputs": [],
   "source": []
  }
 ],
 "metadata": {
  "kernelspec": {
   "display_name": "Python 3 (ipykernel)",
   "language": "python",
   "name": "python3"
  },
  "language_info": {
   "codemirror_mode": {
    "name": "ipython",
    "version": 3
   },
   "file_extension": ".py",
   "mimetype": "text/x-python",
   "name": "python",
   "nbconvert_exporter": "python",
   "pygments_lexer": "ipython3",
   "version": "3.11.2"
  }
 },
 "nbformat": 4,
 "nbformat_minor": 5
}
